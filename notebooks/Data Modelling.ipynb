{
 "cells": [
  {
   "cell_type": "code",
   "execution_count": 53,
   "id": "cd1a7d92",
   "metadata": {},
   "outputs": [],
   "source": [
    "# importing helper libraries\n",
    "import numpy as np\n",
    "import pandas as pd\n",
    "# import machine learning libraries\n",
    "import tensorflow as tf\n",
    "from tensorflow import keras\n",
    "# Importing data preprocessing techniques\n",
    "from sklearn.model_selection import train_test_split\n",
    "from sklearn.preprocessing import StandardScaler, MinMaxScaler"
   ]
  },
  {
   "cell_type": "markdown",
   "id": "5c5d9844",
   "metadata": {},
   "source": [
    "# Data Reading, Downloaded from Yahoo Finance"
   ]
  },
  {
   "cell_type": "code",
   "execution_count": 42,
   "id": "45ed2730",
   "metadata": {},
   "outputs": [
    {
     "data": {
      "text/html": [
       "<div>\n",
       "<style scoped>\n",
       "    .dataframe tbody tr th:only-of-type {\n",
       "        vertical-align: middle;\n",
       "    }\n",
       "\n",
       "    .dataframe tbody tr th {\n",
       "        vertical-align: top;\n",
       "    }\n",
       "\n",
       "    .dataframe thead th {\n",
       "        text-align: right;\n",
       "    }\n",
       "</style>\n",
       "<table border=\"1\" class=\"dataframe\">\n",
       "  <thead>\n",
       "    <tr style=\"text-align: right;\">\n",
       "      <th></th>\n",
       "      <th>Date</th>\n",
       "      <th>Open</th>\n",
       "      <th>High</th>\n",
       "      <th>Low</th>\n",
       "      <th>Close</th>\n",
       "      <th>Adj Close</th>\n",
       "      <th>Volume</th>\n",
       "    </tr>\n",
       "  </thead>\n",
       "  <tbody>\n",
       "    <tr>\n",
       "      <th>0</th>\n",
       "      <td>2019-04-23</td>\n",
       "      <td>5399.365723</td>\n",
       "      <td>5633.802246</td>\n",
       "      <td>5389.408691</td>\n",
       "      <td>5572.362305</td>\n",
       "      <td>5572.362305</td>\n",
       "      <td>1.586731e+10</td>\n",
       "    </tr>\n",
       "    <tr>\n",
       "      <th>1</th>\n",
       "      <td>2019-04-24</td>\n",
       "      <td>5571.508301</td>\n",
       "      <td>5642.044434</td>\n",
       "      <td>5418.263184</td>\n",
       "      <td>5464.866699</td>\n",
       "      <td>5464.866699</td>\n",
       "      <td>1.704803e+10</td>\n",
       "    </tr>\n",
       "    <tr>\n",
       "      <th>2</th>\n",
       "      <td>2019-04-25</td>\n",
       "      <td>5466.524414</td>\n",
       "      <td>5542.238281</td>\n",
       "      <td>5181.338867</td>\n",
       "      <td>5210.515625</td>\n",
       "      <td>5210.515625</td>\n",
       "      <td>1.533028e+10</td>\n",
       "    </tr>\n",
       "    <tr>\n",
       "      <th>3</th>\n",
       "      <td>2019-04-26</td>\n",
       "      <td>5210.304688</td>\n",
       "      <td>5383.634277</td>\n",
       "      <td>5177.368652</td>\n",
       "      <td>5279.348145</td>\n",
       "      <td>5279.348145</td>\n",
       "      <td>1.681211e+10</td>\n",
       "    </tr>\n",
       "    <tr>\n",
       "      <th>4</th>\n",
       "      <td>2019-04-27</td>\n",
       "      <td>5279.471191</td>\n",
       "      <td>5310.750000</td>\n",
       "      <td>5233.635742</td>\n",
       "      <td>5268.291016</td>\n",
       "      <td>5268.291016</td>\n",
       "      <td>1.311127e+10</td>\n",
       "    </tr>\n",
       "  </tbody>\n",
       "</table>\n",
       "</div>"
      ],
      "text/plain": [
       "         Date         Open         High          Low        Close  \\\n",
       "0  2019-04-23  5399.365723  5633.802246  5389.408691  5572.362305   \n",
       "1  2019-04-24  5571.508301  5642.044434  5418.263184  5464.866699   \n",
       "2  2019-04-25  5466.524414  5542.238281  5181.338867  5210.515625   \n",
       "3  2019-04-26  5210.304688  5383.634277  5177.368652  5279.348145   \n",
       "4  2019-04-27  5279.471191  5310.750000  5233.635742  5268.291016   \n",
       "\n",
       "     Adj Close        Volume  \n",
       "0  5572.362305  1.586731e+10  \n",
       "1  5464.866699  1.704803e+10  \n",
       "2  5210.515625  1.533028e+10  \n",
       "3  5279.348145  1.681211e+10  \n",
       "4  5268.291016  1.311127e+10  "
      ]
     },
     "execution_count": 42,
     "metadata": {},
     "output_type": "execute_result"
    }
   ],
   "source": [
    "data = pd.read_csv(\"../BTC-USD.csv\")\n",
    "data.head()"
   ]
  },
  {
   "cell_type": "code",
   "execution_count": 47,
   "id": "c4c0ac04",
   "metadata": {},
   "outputs": [
    {
     "data": {
      "text/plain": [
       "Date         0\n",
       "Open         1\n",
       "High         1\n",
       "Low          1\n",
       "Close        1\n",
       "Adj Close    1\n",
       "Volume       1\n",
       "dtype: int64"
      ]
     },
     "execution_count": 47,
     "metadata": {},
     "output_type": "execute_result"
    }
   ],
   "source": [
    "data.isna().astype(\"int\").sum()"
   ]
  },
  {
   "cell_type": "code",
   "execution_count": 48,
   "id": "e27a0f6f",
   "metadata": {},
   "outputs": [
    {
     "data": {
      "text/plain": [
       "Date         0\n",
       "Open         0\n",
       "High         0\n",
       "Low          0\n",
       "Close        0\n",
       "Adj Close    0\n",
       "Volume       0\n",
       "dtype: int64"
      ]
     },
     "execution_count": 48,
     "metadata": {},
     "output_type": "execute_result"
    }
   ],
   "source": [
    "# we need to remove null or NaN value from our dataset\n",
    "data.dropna(inplace = True)\n",
    "data.isna().astype(\"int\").sum()"
   ]
  },
  {
   "cell_type": "code",
   "execution_count": 49,
   "id": "a5dcb624",
   "metadata": {},
   "outputs": [
    {
     "data": {
      "text/html": [
       "<div>\n",
       "<style scoped>\n",
       "    .dataframe tbody tr th:only-of-type {\n",
       "        vertical-align: middle;\n",
       "    }\n",
       "\n",
       "    .dataframe tbody tr th {\n",
       "        vertical-align: top;\n",
       "    }\n",
       "\n",
       "    .dataframe thead th {\n",
       "        text-align: right;\n",
       "    }\n",
       "</style>\n",
       "<table border=\"1\" class=\"dataframe\">\n",
       "  <thead>\n",
       "    <tr style=\"text-align: right;\">\n",
       "      <th></th>\n",
       "      <th>High</th>\n",
       "      <th>Low</th>\n",
       "      <th>Close</th>\n",
       "    </tr>\n",
       "  </thead>\n",
       "  <tbody>\n",
       "    <tr>\n",
       "      <th>0</th>\n",
       "      <td>5633.802246</td>\n",
       "      <td>5389.408691</td>\n",
       "      <td>5572.362305</td>\n",
       "    </tr>\n",
       "    <tr>\n",
       "      <th>1</th>\n",
       "      <td>5642.044434</td>\n",
       "      <td>5418.263184</td>\n",
       "      <td>5464.866699</td>\n",
       "    </tr>\n",
       "    <tr>\n",
       "      <th>2</th>\n",
       "      <td>5542.238281</td>\n",
       "      <td>5181.338867</td>\n",
       "      <td>5210.515625</td>\n",
       "    </tr>\n",
       "    <tr>\n",
       "      <th>3</th>\n",
       "      <td>5383.634277</td>\n",
       "      <td>5177.368652</td>\n",
       "      <td>5279.348145</td>\n",
       "    </tr>\n",
       "    <tr>\n",
       "      <th>4</th>\n",
       "      <td>5310.750000</td>\n",
       "      <td>5233.635742</td>\n",
       "      <td>5268.291016</td>\n",
       "    </tr>\n",
       "  </tbody>\n",
       "</table>\n",
       "</div>"
      ],
      "text/plain": [
       "          High          Low        Close\n",
       "0  5633.802246  5389.408691  5572.362305\n",
       "1  5642.044434  5418.263184  5464.866699\n",
       "2  5542.238281  5181.338867  5210.515625\n",
       "3  5383.634277  5177.368652  5279.348145\n",
       "4  5310.750000  5233.635742  5268.291016"
      ]
     },
     "execution_count": 49,
     "metadata": {},
     "output_type": "execute_result"
    }
   ],
   "source": [
    "required_data = data[[\"High\", \"Low\", \"Close\"]]\n",
    "required_data.head()"
   ]
  },
  {
   "cell_type": "markdown",
   "id": "97aecfd5",
   "metadata": {},
   "source": [
    "# Data Preprocessing"
   ]
  },
  {
   "cell_type": "code",
   "execution_count": 133,
   "id": "b8353b59",
   "metadata": {},
   "outputs": [],
   "source": [
    "train_data_length = int(0.9 * len(required_data))"
   ]
  },
  {
   "cell_type": "code",
   "execution_count": 134,
   "id": "b8bd0a09",
   "metadata": {
    "scrolled": true
   },
   "outputs": [
    {
     "name": "stdout",
     "output_type": "stream",
     "text": [
      "Training data : (1645, 3)\n",
      "Testing data : (183, 3)\n"
     ]
    }
   ],
   "source": [
    "# Before we normalize the data, we need to split the data into train and test split, so that data snooping can be\n",
    "# avoided\n",
    "\n",
    "train_data = required_data.iloc[:train_data_length]\n",
    "test_data = required_data.iloc[train_data_length:]\n",
    "\n",
    "print(f\"Training data : {train_data.shape}\")\n",
    "print(f\"Testing data : {test_data.shape}\")"
   ]
  },
  {
   "cell_type": "code",
   "execution_count": 135,
   "id": "839c87eb",
   "metadata": {},
   "outputs": [
    {
     "name": "stdout",
     "output_type": "stream",
     "text": [
      "Training data : (1645, 3)\n",
      "Testing data : (183, 3)\n"
     ]
    }
   ],
   "source": [
    "# Data Normalization\n",
    "# This will scale the data between -1 and 1\n",
    "normalizer = MinMaxScaler(feature_range = (-1, 1))\n",
    "# Fit the normalizer on the train data only\n",
    "normalizer.fit(train_data)\n",
    "\n",
    "\n",
    "# converting the train data\n",
    "train_data = normalizer.transform(train_data)\n",
    "test_data  = normalizer.transform(test_data)\n",
    "\n",
    "print(f\"Training data : {train_data.shape}\")\n",
    "print(f\"Testing data : {test_data.shape}\")"
   ]
  },
  {
   "cell_type": "code",
   "execution_count": 136,
   "id": "1536659f",
   "metadata": {},
   "outputs": [
    {
     "name": "stdout",
     "output_type": "stream",
     "text": [
      "Maximum and minimum value of training data : (1.0, -0.9999999999999999)\n",
      "Maximum and minimum value of testing  data : (1.1762626476551192, -0.0885956646837236)\n"
     ]
    }
   ],
   "source": [
    "# checking the range of train data and test data\n",
    "print(f\"Maximum and minimum value of training data : {np.max(train_data), np.min(train_data)}\")\n",
    "print(f\"Maximum and minimum value of testing  data : {np.max(test_data), np.min(test_data)}\")"
   ]
  },
  {
   "cell_type": "code",
   "execution_count": 138,
   "id": "68e44a2b",
   "metadata": {},
   "outputs": [
    {
     "name": "stdout",
     "output_type": "stream",
     "text": [
      "Training Data : ((1630, 15, 3), (1630, 3))\n",
      "Testing Data : ((168, 15, 3), (168, 3))\n"
     ]
    }
   ],
   "source": [
    "# this piece of code creates the data where features and targets are multivariate\n",
    "\n",
    "def create_window_split_with_target_multivariate(data, window_size, horizon=1, stride=1):\n",
    "    \"\"\"\n",
    "    Function to split a multivariate time series data into overlapping windows and generate target variables.\n",
    "    \n",
    "    Parameters:\n",
    "        data (numpy.ndarray): The input multivariate time series data with shape (num_samples, num_features).\n",
    "        window_size (int): Size of each window.\n",
    "        horizon (int): Forecast horizon, i.e., number of future time steps to predict. Default is 1.\n",
    "        stride (int): The stride or step size between consecutive windows. Default is 1.\n",
    "    \n",
    "    Returns:\n",
    "        numpy.ndarray, numpy.ndarray: Arrays containing the split windows and corresponding target variables.\n",
    "    \"\"\"\n",
    "    num_samples = len(data)\n",
    "    num_features = data.shape[1]\n",
    "    num_windows = (num_samples - window_size - horizon) // stride + 1\n",
    "    windows = np.zeros((num_windows, window_size, num_features))\n",
    "    targets = np.zeros((num_windows, num_features))\n",
    "    \n",
    "    for i in range(num_windows):\n",
    "        start_index = i * stride\n",
    "        end_index = start_index + window_size\n",
    "        windows[i] = data[start_index:end_index]\n",
    "        targets[i] = data[end_index + horizon - 1]  # Assuming the target is the value at the end of the forecast horizon\n",
    "    \n",
    "    return windows, targets\n",
    "\n",
    "\n",
    "window_size = 15\n",
    "horizon = 1\n",
    "stride = 1\n",
    "\n",
    "train_features, train_lables = create_window_split_with_target_multivariate(train_data, window_size, horizon, stride)\n",
    "test_features, test_lables = create_window_split_with_target_multivariate(test_data, window_size, horizon, stride)\n",
    "\n",
    "\n",
    "print(f\"Training Data : {train_features.shape, train_lables.shape}\")\n",
    "print(f\"Testing Data : {test_features.shape, test_lables.shape}\")"
   ]
  },
  {
   "cell_type": "markdown",
   "id": "7ec8ec05",
   "metadata": {},
   "source": [
    "# Model Training and Evaluation"
   ]
  },
  {
   "cell_type": "code",
   "execution_count": 139,
   "id": "86e7344c",
   "metadata": {},
   "outputs": [
    {
     "name": "stdout",
     "output_type": "stream",
     "text": [
      "Model: \"sequential_12\"\n",
      "_________________________________________________________________\n",
      " Layer (type)                Output Shape              Param #   \n",
      "=================================================================\n",
      " bidirectional_2 (Bidirecti  (None, 15, 256)           102144    \n",
      " onal)                                                           \n",
      "                                                                 \n",
      " group_normalization_2 (Gro  (None, 15, 256)           512       \n",
      " upNormalization)                                                \n",
      "                                                                 \n",
      " bidirectional_3 (Bidirecti  (None, 256)               296448    \n",
      " onal)                                                           \n",
      "                                                                 \n",
      " group_normalization_3 (Gro  (None, 256)               512       \n",
      " upNormalization)                                                \n",
      "                                                                 \n",
      " dense_14 (Dense)            (None, 64)                16448     \n",
      "                                                                 \n",
      " dense_15 (Dense)            (None, 3)                 195       \n",
      "                                                                 \n",
      "=================================================================\n",
      "Total params: 416259 (1.59 MB)\n",
      "Trainable params: 416259 (1.59 MB)\n",
      "Non-trainable params: 0 (0.00 Byte)\n",
      "_________________________________________________________________\n"
     ]
    }
   ],
   "source": [
    "from tensorflow.keras.layers import GRU\n",
    "\n",
    "model = tf.keras.Sequential(\n",
    "    [\n",
    "        keras.layers.Input(shape = (15, 3)),\n",
    "        keras.layers.Bidirectional(GRU(units = 128, activation = \"gelu\", return_sequences = True)),\n",
    "        keras.layers.GroupNormalization(),\n",
    "        keras.layers.Bidirectional(GRU(units = 128, activation = \"gelu\")),\n",
    "        keras.layers.GroupNormalization(),\n",
    "        keras.layers.Dense(units = 64, activation = \"gelu\"),\n",
    "        keras.layers.Dense(units = 3, activation = \"tanh\")  \n",
    "    ]\n",
    ")\n",
    "model.summary()"
   ]
  },
  {
   "cell_type": "code",
   "execution_count": 140,
   "id": "d3662beb",
   "metadata": {},
   "outputs": [],
   "source": [
    "model.compile(optimizer = keras.optimizers.Adam(learning_rate = 0.001), loss = \"mse\", metrics = [\"mse\"])"
   ]
  },
  {
   "cell_type": "code",
   "execution_count": 141,
   "id": "5d755908",
   "metadata": {
    "scrolled": false
   },
   "outputs": [
    {
     "name": "stdout",
     "output_type": "stream",
     "text": [
      "Epoch 1/1000\n",
      "51/51 [==============================] - 9s 43ms/step - loss: 0.1753 - mse: 0.1753 - val_loss: 0.1093 - val_mse: 0.1093\n",
      "Epoch 2/1000\n",
      "51/51 [==============================] - 1s 28ms/step - loss: 0.0124 - mse: 0.0124 - val_loss: 0.0167 - val_mse: 0.0167\n",
      "Epoch 3/1000\n",
      "51/51 [==============================] - 1s 28ms/step - loss: 0.0024 - mse: 0.0024 - val_loss: 0.0145 - val_mse: 0.0145\n",
      "Epoch 4/1000\n",
      "51/51 [==============================] - 1s 29ms/step - loss: 0.0018 - mse: 0.0018 - val_loss: 0.0089 - val_mse: 0.0089\n",
      "Epoch 5/1000\n",
      "51/51 [==============================] - 1s 28ms/step - loss: 0.0020 - mse: 0.0020 - val_loss: 0.0163 - val_mse: 0.0163\n",
      "Epoch 6/1000\n",
      "51/51 [==============================] - 1s 28ms/step - loss: 0.0016 - mse: 0.0016 - val_loss: 0.0063 - val_mse: 0.0063\n",
      "Epoch 7/1000\n",
      "51/51 [==============================] - 1s 28ms/step - loss: 0.0018 - mse: 0.0018 - val_loss: 0.0069 - val_mse: 0.0069\n",
      "Epoch 8/1000\n",
      "51/51 [==============================] - 1s 28ms/step - loss: 0.0016 - mse: 0.0016 - val_loss: 0.0082 - val_mse: 0.0082\n",
      "Epoch 9/1000\n",
      "51/51 [==============================] - 1s 28ms/step - loss: 0.0018 - mse: 0.0018 - val_loss: 0.0089 - val_mse: 0.0089\n",
      "Epoch 10/1000\n",
      "51/51 [==============================] - 1s 29ms/step - loss: 0.0014 - mse: 0.0014 - val_loss: 0.0079 - val_mse: 0.0079\n",
      "Epoch 11/1000\n",
      "51/51 [==============================] - 1s 29ms/step - loss: 0.0014 - mse: 0.0014 - val_loss: 0.0088 - val_mse: 0.0088\n",
      "Epoch 12/1000\n",
      "51/51 [==============================] - 1s 29ms/step - loss: 0.0012 - mse: 0.0012 - val_loss: 0.0082 - val_mse: 0.0082\n",
      "Epoch 13/1000\n",
      "51/51 [==============================] - 1s 29ms/step - loss: 0.0013 - mse: 0.0013 - val_loss: 0.0062 - val_mse: 0.0062\n",
      "Epoch 14/1000\n",
      "51/51 [==============================] - 1s 29ms/step - loss: 0.0012 - mse: 0.0012 - val_loss: 0.0099 - val_mse: 0.0099\n",
      "Epoch 15/1000\n",
      "47/51 [==========================>...] - ETA: 0s - loss: 0.0012 - mse: 0.0012"
     ]
    },
    {
     "ename": "KeyboardInterrupt",
     "evalue": "",
     "output_type": "error",
     "traceback": [
      "\u001b[1;31m---------------------------------------------------------------------------\u001b[0m",
      "\u001b[1;31mKeyboardInterrupt\u001b[0m                         Traceback (most recent call last)",
      "Cell \u001b[1;32mIn[141], line 1\u001b[0m\n\u001b[1;32m----> 1\u001b[0m model\u001b[38;5;241m.\u001b[39mfit(train_features, train_lables, epochs \u001b[38;5;241m=\u001b[39m \u001b[38;5;241m1000\u001b[39m, validation_data \u001b[38;5;241m=\u001b[39m (test_features, test_lables))\n",
      "File \u001b[1;32m~\\anaconda3\\Lib\\site-packages\\keras\\src\\utils\\traceback_utils.py:65\u001b[0m, in \u001b[0;36mfilter_traceback.<locals>.error_handler\u001b[1;34m(*args, **kwargs)\u001b[0m\n\u001b[0;32m     63\u001b[0m filtered_tb \u001b[38;5;241m=\u001b[39m \u001b[38;5;28;01mNone\u001b[39;00m\n\u001b[0;32m     64\u001b[0m \u001b[38;5;28;01mtry\u001b[39;00m:\n\u001b[1;32m---> 65\u001b[0m     \u001b[38;5;28;01mreturn\u001b[39;00m fn(\u001b[38;5;241m*\u001b[39margs, \u001b[38;5;241m*\u001b[39m\u001b[38;5;241m*\u001b[39mkwargs)\n\u001b[0;32m     66\u001b[0m \u001b[38;5;28;01mexcept\u001b[39;00m \u001b[38;5;167;01mException\u001b[39;00m \u001b[38;5;28;01mas\u001b[39;00m e:\n\u001b[0;32m     67\u001b[0m     filtered_tb \u001b[38;5;241m=\u001b[39m _process_traceback_frames(e\u001b[38;5;241m.\u001b[39m__traceback__)\n",
      "File \u001b[1;32m~\\anaconda3\\Lib\\site-packages\\keras\\src\\engine\\training.py:1807\u001b[0m, in \u001b[0;36mModel.fit\u001b[1;34m(self, x, y, batch_size, epochs, verbose, callbacks, validation_split, validation_data, shuffle, class_weight, sample_weight, initial_epoch, steps_per_epoch, validation_steps, validation_batch_size, validation_freq, max_queue_size, workers, use_multiprocessing)\u001b[0m\n\u001b[0;32m   1799\u001b[0m \u001b[38;5;28;01mwith\u001b[39;00m tf\u001b[38;5;241m.\u001b[39mprofiler\u001b[38;5;241m.\u001b[39mexperimental\u001b[38;5;241m.\u001b[39mTrace(\n\u001b[0;32m   1800\u001b[0m     \u001b[38;5;124m\"\u001b[39m\u001b[38;5;124mtrain\u001b[39m\u001b[38;5;124m\"\u001b[39m,\n\u001b[0;32m   1801\u001b[0m     epoch_num\u001b[38;5;241m=\u001b[39mepoch,\n\u001b[1;32m   (...)\u001b[0m\n\u001b[0;32m   1804\u001b[0m     _r\u001b[38;5;241m=\u001b[39m\u001b[38;5;241m1\u001b[39m,\n\u001b[0;32m   1805\u001b[0m ):\n\u001b[0;32m   1806\u001b[0m     callbacks\u001b[38;5;241m.\u001b[39mon_train_batch_begin(step)\n\u001b[1;32m-> 1807\u001b[0m     tmp_logs \u001b[38;5;241m=\u001b[39m \u001b[38;5;28mself\u001b[39m\u001b[38;5;241m.\u001b[39mtrain_function(iterator)\n\u001b[0;32m   1808\u001b[0m     \u001b[38;5;28;01mif\u001b[39;00m data_handler\u001b[38;5;241m.\u001b[39mshould_sync:\n\u001b[0;32m   1809\u001b[0m         context\u001b[38;5;241m.\u001b[39masync_wait()\n",
      "File \u001b[1;32m~\\anaconda3\\Lib\\site-packages\\tensorflow\\python\\util\\traceback_utils.py:150\u001b[0m, in \u001b[0;36mfilter_traceback.<locals>.error_handler\u001b[1;34m(*args, **kwargs)\u001b[0m\n\u001b[0;32m    148\u001b[0m filtered_tb \u001b[38;5;241m=\u001b[39m \u001b[38;5;28;01mNone\u001b[39;00m\n\u001b[0;32m    149\u001b[0m \u001b[38;5;28;01mtry\u001b[39;00m:\n\u001b[1;32m--> 150\u001b[0m   \u001b[38;5;28;01mreturn\u001b[39;00m fn(\u001b[38;5;241m*\u001b[39margs, \u001b[38;5;241m*\u001b[39m\u001b[38;5;241m*\u001b[39mkwargs)\n\u001b[0;32m    151\u001b[0m \u001b[38;5;28;01mexcept\u001b[39;00m \u001b[38;5;167;01mException\u001b[39;00m \u001b[38;5;28;01mas\u001b[39;00m e:\n\u001b[0;32m    152\u001b[0m   filtered_tb \u001b[38;5;241m=\u001b[39m _process_traceback_frames(e\u001b[38;5;241m.\u001b[39m__traceback__)\n",
      "File \u001b[1;32m~\\anaconda3\\Lib\\site-packages\\tensorflow\\python\\eager\\polymorphic_function\\polymorphic_function.py:832\u001b[0m, in \u001b[0;36mFunction.__call__\u001b[1;34m(self, *args, **kwds)\u001b[0m\n\u001b[0;32m    829\u001b[0m compiler \u001b[38;5;241m=\u001b[39m \u001b[38;5;124m\"\u001b[39m\u001b[38;5;124mxla\u001b[39m\u001b[38;5;124m\"\u001b[39m \u001b[38;5;28;01mif\u001b[39;00m \u001b[38;5;28mself\u001b[39m\u001b[38;5;241m.\u001b[39m_jit_compile \u001b[38;5;28;01melse\u001b[39;00m \u001b[38;5;124m\"\u001b[39m\u001b[38;5;124mnonXla\u001b[39m\u001b[38;5;124m\"\u001b[39m\n\u001b[0;32m    831\u001b[0m \u001b[38;5;28;01mwith\u001b[39;00m OptionalXlaContext(\u001b[38;5;28mself\u001b[39m\u001b[38;5;241m.\u001b[39m_jit_compile):\n\u001b[1;32m--> 832\u001b[0m   result \u001b[38;5;241m=\u001b[39m \u001b[38;5;28mself\u001b[39m\u001b[38;5;241m.\u001b[39m_call(\u001b[38;5;241m*\u001b[39margs, \u001b[38;5;241m*\u001b[39m\u001b[38;5;241m*\u001b[39mkwds)\n\u001b[0;32m    834\u001b[0m new_tracing_count \u001b[38;5;241m=\u001b[39m \u001b[38;5;28mself\u001b[39m\u001b[38;5;241m.\u001b[39mexperimental_get_tracing_count()\n\u001b[0;32m    835\u001b[0m without_tracing \u001b[38;5;241m=\u001b[39m (tracing_count \u001b[38;5;241m==\u001b[39m new_tracing_count)\n",
      "File \u001b[1;32m~\\anaconda3\\Lib\\site-packages\\tensorflow\\python\\eager\\polymorphic_function\\polymorphic_function.py:868\u001b[0m, in \u001b[0;36mFunction._call\u001b[1;34m(self, *args, **kwds)\u001b[0m\n\u001b[0;32m    865\u001b[0m   \u001b[38;5;28mself\u001b[39m\u001b[38;5;241m.\u001b[39m_lock\u001b[38;5;241m.\u001b[39mrelease()\n\u001b[0;32m    866\u001b[0m   \u001b[38;5;66;03m# In this case we have created variables on the first call, so we run the\u001b[39;00m\n\u001b[0;32m    867\u001b[0m   \u001b[38;5;66;03m# defunned version which is guaranteed to never create variables.\u001b[39;00m\n\u001b[1;32m--> 868\u001b[0m   \u001b[38;5;28;01mreturn\u001b[39;00m tracing_compilation\u001b[38;5;241m.\u001b[39mcall_function(\n\u001b[0;32m    869\u001b[0m       args, kwds, \u001b[38;5;28mself\u001b[39m\u001b[38;5;241m.\u001b[39m_no_variable_creation_config\n\u001b[0;32m    870\u001b[0m   )\n\u001b[0;32m    871\u001b[0m \u001b[38;5;28;01melif\u001b[39;00m \u001b[38;5;28mself\u001b[39m\u001b[38;5;241m.\u001b[39m_variable_creation_config \u001b[38;5;129;01mis\u001b[39;00m \u001b[38;5;129;01mnot\u001b[39;00m \u001b[38;5;28;01mNone\u001b[39;00m:\n\u001b[0;32m    872\u001b[0m   \u001b[38;5;66;03m# Release the lock early so that multiple threads can perform the call\u001b[39;00m\n\u001b[0;32m    873\u001b[0m   \u001b[38;5;66;03m# in parallel.\u001b[39;00m\n\u001b[0;32m    874\u001b[0m   \u001b[38;5;28mself\u001b[39m\u001b[38;5;241m.\u001b[39m_lock\u001b[38;5;241m.\u001b[39mrelease()\n",
      "File \u001b[1;32m~\\anaconda3\\Lib\\site-packages\\tensorflow\\python\\eager\\polymorphic_function\\tracing_compilation.py:139\u001b[0m, in \u001b[0;36mcall_function\u001b[1;34m(args, kwargs, tracing_options)\u001b[0m\n\u001b[0;32m    137\u001b[0m bound_args \u001b[38;5;241m=\u001b[39m function\u001b[38;5;241m.\u001b[39mfunction_type\u001b[38;5;241m.\u001b[39mbind(\u001b[38;5;241m*\u001b[39margs, \u001b[38;5;241m*\u001b[39m\u001b[38;5;241m*\u001b[39mkwargs)\n\u001b[0;32m    138\u001b[0m flat_inputs \u001b[38;5;241m=\u001b[39m function\u001b[38;5;241m.\u001b[39mfunction_type\u001b[38;5;241m.\u001b[39munpack_inputs(bound_args)\n\u001b[1;32m--> 139\u001b[0m \u001b[38;5;28;01mreturn\u001b[39;00m function\u001b[38;5;241m.\u001b[39m_call_flat(  \u001b[38;5;66;03m# pylint: disable=protected-access\u001b[39;00m\n\u001b[0;32m    140\u001b[0m     flat_inputs, captured_inputs\u001b[38;5;241m=\u001b[39mfunction\u001b[38;5;241m.\u001b[39mcaptured_inputs\n\u001b[0;32m    141\u001b[0m )\n",
      "File \u001b[1;32m~\\anaconda3\\Lib\\site-packages\\tensorflow\\python\\eager\\polymorphic_function\\concrete_function.py:1323\u001b[0m, in \u001b[0;36mConcreteFunction._call_flat\u001b[1;34m(self, tensor_inputs, captured_inputs)\u001b[0m\n\u001b[0;32m   1319\u001b[0m possible_gradient_type \u001b[38;5;241m=\u001b[39m gradients_util\u001b[38;5;241m.\u001b[39mPossibleTapeGradientTypes(args)\n\u001b[0;32m   1320\u001b[0m \u001b[38;5;28;01mif\u001b[39;00m (possible_gradient_type \u001b[38;5;241m==\u001b[39m gradients_util\u001b[38;5;241m.\u001b[39mPOSSIBLE_GRADIENT_TYPES_NONE\n\u001b[0;32m   1321\u001b[0m     \u001b[38;5;129;01mand\u001b[39;00m executing_eagerly):\n\u001b[0;32m   1322\u001b[0m   \u001b[38;5;66;03m# No tape is watching; skip to running the function.\u001b[39;00m\n\u001b[1;32m-> 1323\u001b[0m   \u001b[38;5;28;01mreturn\u001b[39;00m \u001b[38;5;28mself\u001b[39m\u001b[38;5;241m.\u001b[39m_inference_function\u001b[38;5;241m.\u001b[39mcall_preflattened(args)\n\u001b[0;32m   1324\u001b[0m forward_backward \u001b[38;5;241m=\u001b[39m \u001b[38;5;28mself\u001b[39m\u001b[38;5;241m.\u001b[39m_select_forward_and_backward_functions(\n\u001b[0;32m   1325\u001b[0m     args,\n\u001b[0;32m   1326\u001b[0m     possible_gradient_type,\n\u001b[0;32m   1327\u001b[0m     executing_eagerly)\n\u001b[0;32m   1328\u001b[0m forward_function, args_with_tangents \u001b[38;5;241m=\u001b[39m forward_backward\u001b[38;5;241m.\u001b[39mforward()\n",
      "File \u001b[1;32m~\\anaconda3\\Lib\\site-packages\\tensorflow\\python\\eager\\polymorphic_function\\atomic_function.py:216\u001b[0m, in \u001b[0;36mAtomicFunction.call_preflattened\u001b[1;34m(self, args)\u001b[0m\n\u001b[0;32m    214\u001b[0m \u001b[38;5;28;01mdef\u001b[39;00m \u001b[38;5;21mcall_preflattened\u001b[39m(\u001b[38;5;28mself\u001b[39m, args: Sequence[core\u001b[38;5;241m.\u001b[39mTensor]) \u001b[38;5;241m-\u001b[39m\u001b[38;5;241m>\u001b[39m Any:\n\u001b[0;32m    215\u001b[0m \u001b[38;5;250m  \u001b[39m\u001b[38;5;124;03m\"\"\"Calls with flattened tensor inputs and returns the structured output.\"\"\"\u001b[39;00m\n\u001b[1;32m--> 216\u001b[0m   flat_outputs \u001b[38;5;241m=\u001b[39m \u001b[38;5;28mself\u001b[39m\u001b[38;5;241m.\u001b[39mcall_flat(\u001b[38;5;241m*\u001b[39margs)\n\u001b[0;32m    217\u001b[0m   \u001b[38;5;28;01mreturn\u001b[39;00m \u001b[38;5;28mself\u001b[39m\u001b[38;5;241m.\u001b[39mfunction_type\u001b[38;5;241m.\u001b[39mpack_output(flat_outputs)\n",
      "File \u001b[1;32m~\\anaconda3\\Lib\\site-packages\\tensorflow\\python\\eager\\polymorphic_function\\atomic_function.py:251\u001b[0m, in \u001b[0;36mAtomicFunction.call_flat\u001b[1;34m(self, *args)\u001b[0m\n\u001b[0;32m    249\u001b[0m \u001b[38;5;28;01mwith\u001b[39;00m record\u001b[38;5;241m.\u001b[39mstop_recording():\n\u001b[0;32m    250\u001b[0m   \u001b[38;5;28;01mif\u001b[39;00m \u001b[38;5;28mself\u001b[39m\u001b[38;5;241m.\u001b[39m_bound_context\u001b[38;5;241m.\u001b[39mexecuting_eagerly():\n\u001b[1;32m--> 251\u001b[0m     outputs \u001b[38;5;241m=\u001b[39m \u001b[38;5;28mself\u001b[39m\u001b[38;5;241m.\u001b[39m_bound_context\u001b[38;5;241m.\u001b[39mcall_function(\n\u001b[0;32m    252\u001b[0m         \u001b[38;5;28mself\u001b[39m\u001b[38;5;241m.\u001b[39mname,\n\u001b[0;32m    253\u001b[0m         \u001b[38;5;28mlist\u001b[39m(args),\n\u001b[0;32m    254\u001b[0m         \u001b[38;5;28mlen\u001b[39m(\u001b[38;5;28mself\u001b[39m\u001b[38;5;241m.\u001b[39mfunction_type\u001b[38;5;241m.\u001b[39mflat_outputs),\n\u001b[0;32m    255\u001b[0m     )\n\u001b[0;32m    256\u001b[0m   \u001b[38;5;28;01melse\u001b[39;00m:\n\u001b[0;32m    257\u001b[0m     outputs \u001b[38;5;241m=\u001b[39m make_call_op_in_graph(\n\u001b[0;32m    258\u001b[0m         \u001b[38;5;28mself\u001b[39m,\n\u001b[0;32m    259\u001b[0m         \u001b[38;5;28mlist\u001b[39m(args),\n\u001b[0;32m    260\u001b[0m         \u001b[38;5;28mself\u001b[39m\u001b[38;5;241m.\u001b[39m_bound_context\u001b[38;5;241m.\u001b[39mfunction_call_options\u001b[38;5;241m.\u001b[39mas_attrs(),\n\u001b[0;32m    261\u001b[0m     )\n",
      "File \u001b[1;32m~\\anaconda3\\Lib\\site-packages\\tensorflow\\python\\eager\\context.py:1486\u001b[0m, in \u001b[0;36mContext.call_function\u001b[1;34m(self, name, tensor_inputs, num_outputs)\u001b[0m\n\u001b[0;32m   1484\u001b[0m cancellation_context \u001b[38;5;241m=\u001b[39m cancellation\u001b[38;5;241m.\u001b[39mcontext()\n\u001b[0;32m   1485\u001b[0m \u001b[38;5;28;01mif\u001b[39;00m cancellation_context \u001b[38;5;129;01mis\u001b[39;00m \u001b[38;5;28;01mNone\u001b[39;00m:\n\u001b[1;32m-> 1486\u001b[0m   outputs \u001b[38;5;241m=\u001b[39m execute\u001b[38;5;241m.\u001b[39mexecute(\n\u001b[0;32m   1487\u001b[0m       name\u001b[38;5;241m.\u001b[39mdecode(\u001b[38;5;124m\"\u001b[39m\u001b[38;5;124mutf-8\u001b[39m\u001b[38;5;124m\"\u001b[39m),\n\u001b[0;32m   1488\u001b[0m       num_outputs\u001b[38;5;241m=\u001b[39mnum_outputs,\n\u001b[0;32m   1489\u001b[0m       inputs\u001b[38;5;241m=\u001b[39mtensor_inputs,\n\u001b[0;32m   1490\u001b[0m       attrs\u001b[38;5;241m=\u001b[39mattrs,\n\u001b[0;32m   1491\u001b[0m       ctx\u001b[38;5;241m=\u001b[39m\u001b[38;5;28mself\u001b[39m,\n\u001b[0;32m   1492\u001b[0m   )\n\u001b[0;32m   1493\u001b[0m \u001b[38;5;28;01melse\u001b[39;00m:\n\u001b[0;32m   1494\u001b[0m   outputs \u001b[38;5;241m=\u001b[39m execute\u001b[38;5;241m.\u001b[39mexecute_with_cancellation(\n\u001b[0;32m   1495\u001b[0m       name\u001b[38;5;241m.\u001b[39mdecode(\u001b[38;5;124m\"\u001b[39m\u001b[38;5;124mutf-8\u001b[39m\u001b[38;5;124m\"\u001b[39m),\n\u001b[0;32m   1496\u001b[0m       num_outputs\u001b[38;5;241m=\u001b[39mnum_outputs,\n\u001b[1;32m   (...)\u001b[0m\n\u001b[0;32m   1500\u001b[0m       cancellation_manager\u001b[38;5;241m=\u001b[39mcancellation_context,\n\u001b[0;32m   1501\u001b[0m   )\n",
      "File \u001b[1;32m~\\anaconda3\\Lib\\site-packages\\tensorflow\\python\\eager\\execute.py:53\u001b[0m, in \u001b[0;36mquick_execute\u001b[1;34m(op_name, num_outputs, inputs, attrs, ctx, name)\u001b[0m\n\u001b[0;32m     51\u001b[0m \u001b[38;5;28;01mtry\u001b[39;00m:\n\u001b[0;32m     52\u001b[0m   ctx\u001b[38;5;241m.\u001b[39mensure_initialized()\n\u001b[1;32m---> 53\u001b[0m   tensors \u001b[38;5;241m=\u001b[39m pywrap_tfe\u001b[38;5;241m.\u001b[39mTFE_Py_Execute(ctx\u001b[38;5;241m.\u001b[39m_handle, device_name, op_name,\n\u001b[0;32m     54\u001b[0m                                       inputs, attrs, num_outputs)\n\u001b[0;32m     55\u001b[0m \u001b[38;5;28;01mexcept\u001b[39;00m core\u001b[38;5;241m.\u001b[39m_NotOkStatusException \u001b[38;5;28;01mas\u001b[39;00m e:\n\u001b[0;32m     56\u001b[0m   \u001b[38;5;28;01mif\u001b[39;00m name \u001b[38;5;129;01mis\u001b[39;00m \u001b[38;5;129;01mnot\u001b[39;00m \u001b[38;5;28;01mNone\u001b[39;00m:\n",
      "\u001b[1;31mKeyboardInterrupt\u001b[0m: "
     ]
    }
   ],
   "source": [
    "model.fit(train_features, train_lables, epochs = 1000, validation_data = (test_features, test_lables))"
   ]
  },
  {
   "cell_type": "code",
   "execution_count": 142,
   "id": "fdfd390b",
   "metadata": {},
   "outputs": [
    {
     "name": "stdout",
     "output_type": "stream",
     "text": [
      "6/6 [==============================] - 0s 10ms/step - loss: 0.0085 - mse: 0.0085\n"
     ]
    },
    {
     "data": {
      "text/plain": [
       "[0.008485890924930573, 0.008485890924930573]"
      ]
     },
     "execution_count": 142,
     "metadata": {},
     "output_type": "execute_result"
    }
   ],
   "source": [
    "model.evaluate(test_features, test_lables)"
   ]
  },
  {
   "cell_type": "code",
   "execution_count": 143,
   "id": "2ef65950",
   "metadata": {},
   "outputs": [
    {
     "name": "stdout",
     "output_type": "stream",
     "text": [
      "6/6 [==============================] - 1s 10ms/step\n"
     ]
    }
   ],
   "source": [
    "test_predicts = model.predict(test_features)"
   ]
  },
  {
   "cell_type": "code",
   "execution_count": 105,
   "id": "7d5df077",
   "metadata": {},
   "outputs": [],
   "source": [
    "import matplotlib.pyplot as plt\n"
   ]
  },
  {
   "cell_type": "code",
   "execution_count": 153,
   "id": "aa2b32fe",
   "metadata": {
    "scrolled": false
   },
   "outputs": [
    {
     "data": {
      "image/png": "[encoded data removed]",
      "text/plain": [
       "<Figure size 1500x500 with 3 Axes>"
      ]
     },
     "metadata": {},
     "output_type": "display_data"
    }
   ],
   "source": [
    "fig, axes = plt.subplots(1, 3, figsize=(15, 5))\n",
    "\n",
    "axes[0].plot(test_lables[:, 0], label = \"True High Value\")\n",
    "axes[0].plot(test_predicts[:, 0], label = \"Predicted High Value\")\n",
    "axes[0].set_title('Plot 1')\n",
    "axes[0].set_xlabel('Future Dates')\n",
    "axes[0].set_ylabel('Predicted values')\n",
    "axes[0].legend()\n",
    "\n",
    "axes[1].plot(test_lables[:, 1], label = \"True Low Value\")\n",
    "axes[1].plot(test_predicts[:, 1], label = \"Predicted Low Value\")\n",
    "axes[1].set_title('Plot 1')\n",
    "axes[1].set_xlabel('Future Dates')\n",
    "axes[1].set_ylabel('Predicted values')\n",
    "axes[1].legend()\n",
    "\n",
    "axes[2].plot(test_lables[:, 2], label = \"True Close Value\")\n",
    "axes[2].plot(test_predicts[:, 2], label = \"Predicted Close Value\")\n",
    "axes[2].set_title('Plot 1')\n",
    "axes[2].set_xlabel('Future Dates')\n",
    "axes[2].set_ylabel('Predicted values')\n",
    "axes[2].legend()\n",
    "plt.show()\n"
   ]
  },
  {
   "cell_type": "code",
   "execution_count": 155,
   "id": "9e9c3e59",
   "metadata": {},
   "outputs": [
    {
     "name": "stdout",
     "output_type": "stream",
     "text": [
      "INFO:tensorflow:Assets written to: ../model.ckpt\\assets\n"
     ]
    },
    {
     "name": "stderr",
     "output_type": "stream",
     "text": [
      "INFO:tensorflow:Assets written to: ../model.ckpt\\assets\n"
     ]
    }
   ],
   "source": [
    "tf.keras.models.save_model(model, \"../model.ckpt\")"
   ]
  },
  {
   "cell_type": "code",
   "execution_count": 1,
   "id": "36619d3a",
   "metadata": {},
   "outputs": [
    {
     "name": "stderr",
     "output_type": "stream",
     "text": [
      "WARNING:root:Limited tf.compat.v2.summary API due to missing TensorBoard installation.\n",
      "WARNING:root:Limited tf.compat.v2.summary API due to missing TensorBoard installation.\n",
      "WARNING:root:Limited tf.compat.v2.summary API due to missing TensorBoard installation.\n",
      "WARNING:root:Limited tf.summary API due to missing TensorBoard installation.\n",
      "WARNING:root:Limited tf.compat.v2.summary API due to missing TensorBoard installation.\n"
     ]
    },
    {
     "name": "stdout",
     "output_type": "stream",
     "text": [
      "WARNING:tensorflow:From C:\\Users\\prati\\anaconda3\\Lib\\site-packages\\keras\\src\\losses.py:2976: The name tf.losses.sparse_softmax_cross_entropy is deprecated. Please use tf.compat.v1.losses.sparse_softmax_cross_entropy instead.\n",
      "\n"
     ]
    },
    {
     "name": "stderr",
     "output_type": "stream",
     "text": [
      "WARNING:tensorflow:From C:\\Users\\prati\\anaconda3\\Lib\\site-packages\\keras\\src\\losses.py:2976: The name tf.losses.sparse_softmax_cross_entropy is deprecated. Please use tf.compat.v1.losses.sparse_softmax_cross_entropy instead.\n",
      "\n"
     ]
    }
   ],
   "source": [
    "import tensorflow as tf"
   ]
  },
  {
   "cell_type": "code",
   "execution_count": 2,
   "id": "83563b12",
   "metadata": {},
   "outputs": [
    {
     "data": {
      "text/plain": [
       "'2.15.1'"
      ]
     },
     "execution_count": 2,
     "metadata": {},
     "output_type": "execute_result"
    }
   ],
   "source": [
    "tf.__version__"
   ]
  }
 ],
 "metadata": {
  "kernelspec": {
   "display_name": "Python 3 (ipykernel)",
   "language": "python",
   "name": "python3"
  },
  "language_info": {
   "codemirror_mode": {
    "name": "ipython",
    "version": 3
   },
   "file_extension": ".py",
   "mimetype": "text/x-python",
   "name": "python",
   "nbconvert_exporter": "python",
   "pygments_lexer": "ipython3",
   "version": "3.11.5"
  }
 },
 "nbformat": 4,
 "nbformat_minor": 5
}
